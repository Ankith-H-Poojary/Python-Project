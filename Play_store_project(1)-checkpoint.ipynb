{
 "cells": [
  {
   "cell_type": "markdown",
   "id": "eecdd2bc",
   "metadata": {},
   "source": [
    "# 1. Import required libraries and read the dataset"
   ]
  },
  {
   "cell_type": "code",
   "execution_count": 1,
   "id": "8c757824",
   "metadata": {
    "ExecuteTime": {
     "end_time": "2023-12-01T03:33:53.368841Z",
     "start_time": "2023-12-01T03:33:48.734738Z"
    }
   },
   "outputs": [],
   "source": [
    "import pandas as pd\n",
    "import numpy as np\n",
    "import seaborn as sns\n",
    "import matplotlib.pyplot as plt"
   ]
  },
  {
   "cell_type": "code",
   "execution_count": 2,
   "id": "64ef0404",
   "metadata": {
    "ExecuteTime": {
     "end_time": "2023-12-01T03:34:05.242518Z",
     "start_time": "2023-12-01T03:34:05.155684Z"
    }
   },
   "outputs": [],
   "source": [
    "df=pd.read_csv(\"Apps_data+(1).csv\")"
   ]
  },
  {
   "cell_type": "markdown",
   "id": "b65380c5",
   "metadata": {},
   "source": [
    "# 2. Check the first few samples, shape, info of the data and try to familiarize yourself with different features."
   ]
  },
  {
   "cell_type": "code",
   "execution_count": 3,
   "id": "9d10f9b5",
   "metadata": {
    "ExecuteTime": {
     "end_time": "2023-12-01T03:34:11.444684Z",
     "start_time": "2023-12-01T03:34:11.382295Z"
    }
   },
   "outputs": [
    {
     "data": {
      "text/html": [
       "<div>\n",
       "<style scoped>\n",
       "    .dataframe tbody tr th:only-of-type {\n",
       "        vertical-align: middle;\n",
       "    }\n",
       "\n",
       "    .dataframe tbody tr th {\n",
       "        vertical-align: top;\n",
       "    }\n",
       "\n",
       "    .dataframe thead th {\n",
       "        text-align: right;\n",
       "    }\n",
       "</style>\n",
       "<table border=\"1\" class=\"dataframe\">\n",
       "  <thead>\n",
       "    <tr style=\"text-align: right;\">\n",
       "      <th></th>\n",
       "      <th>App</th>\n",
       "      <th>Category</th>\n",
       "      <th>Rating</th>\n",
       "      <th>Reviews</th>\n",
       "      <th>Size</th>\n",
       "      <th>Installs</th>\n",
       "      <th>Type</th>\n",
       "      <th>Price</th>\n",
       "      <th>Content Rating</th>\n",
       "      <th>Genres</th>\n",
       "      <th>Last Updated</th>\n",
       "      <th>Current Ver</th>\n",
       "      <th>Android Ver</th>\n",
       "    </tr>\n",
       "  </thead>\n",
       "  <tbody>\n",
       "    <tr>\n",
       "      <th>0</th>\n",
       "      <td>Photo Editor &amp; Candy Camera &amp; Grid &amp; ScrapBook</td>\n",
       "      <td>ART_AND_DESIGN</td>\n",
       "      <td>4.1</td>\n",
       "      <td>159</td>\n",
       "      <td>19M</td>\n",
       "      <td>10,000+</td>\n",
       "      <td>Free</td>\n",
       "      <td>0</td>\n",
       "      <td>Everyone</td>\n",
       "      <td>Art &amp; Design</td>\n",
       "      <td>January 7, 2018</td>\n",
       "      <td>1.0.0</td>\n",
       "      <td>4.0.3 and up</td>\n",
       "    </tr>\n",
       "    <tr>\n",
       "      <th>1</th>\n",
       "      <td>Coloring book moana</td>\n",
       "      <td>ART_AND_DESIGN</td>\n",
       "      <td>3.9</td>\n",
       "      <td>967</td>\n",
       "      <td>14M</td>\n",
       "      <td>500,000+</td>\n",
       "      <td>Free</td>\n",
       "      <td>0</td>\n",
       "      <td>Everyone</td>\n",
       "      <td>Art &amp; Design;Pretend Play</td>\n",
       "      <td>January 15, 2018</td>\n",
       "      <td>2.0.0</td>\n",
       "      <td>4.0.3 and up</td>\n",
       "    </tr>\n",
       "    <tr>\n",
       "      <th>2</th>\n",
       "      <td>U Launcher Lite – FREE Live Cool Themes, Hide ...</td>\n",
       "      <td>ART_AND_DESIGN</td>\n",
       "      <td>4.7</td>\n",
       "      <td>87510</td>\n",
       "      <td>8.7M</td>\n",
       "      <td>5,000,000+</td>\n",
       "      <td>Free</td>\n",
       "      <td>0</td>\n",
       "      <td>Everyone</td>\n",
       "      <td>Art &amp; Design</td>\n",
       "      <td>August 1, 2018</td>\n",
       "      <td>1.2.4</td>\n",
       "      <td>4.0.3 and up</td>\n",
       "    </tr>\n",
       "    <tr>\n",
       "      <th>3</th>\n",
       "      <td>Sketch - Draw &amp; Paint</td>\n",
       "      <td>ART_AND_DESIGN</td>\n",
       "      <td>4.5</td>\n",
       "      <td>215644</td>\n",
       "      <td>25M</td>\n",
       "      <td>50,000,000+</td>\n",
       "      <td>Free</td>\n",
       "      <td>0</td>\n",
       "      <td>Teen</td>\n",
       "      <td>Art &amp; Design</td>\n",
       "      <td>June 8, 2018</td>\n",
       "      <td>Varies with device</td>\n",
       "      <td>4.2 and up</td>\n",
       "    </tr>\n",
       "    <tr>\n",
       "      <th>4</th>\n",
       "      <td>Pixel Draw - Number Art Coloring Book</td>\n",
       "      <td>ART_AND_DESIGN</td>\n",
       "      <td>4.3</td>\n",
       "      <td>967</td>\n",
       "      <td>2.8M</td>\n",
       "      <td>100,000+</td>\n",
       "      <td>Free</td>\n",
       "      <td>0</td>\n",
       "      <td>Everyone</td>\n",
       "      <td>Art &amp; Design;Creativity</td>\n",
       "      <td>June 20, 2018</td>\n",
       "      <td>1.1</td>\n",
       "      <td>4.4 and up</td>\n",
       "    </tr>\n",
       "  </tbody>\n",
       "</table>\n",
       "</div>"
      ],
      "text/plain": [
       "                                                 App        Category  Rating  \\\n",
       "0     Photo Editor & Candy Camera & Grid & ScrapBook  ART_AND_DESIGN     4.1   \n",
       "1                                Coloring book moana  ART_AND_DESIGN     3.9   \n",
       "2  U Launcher Lite – FREE Live Cool Themes, Hide ...  ART_AND_DESIGN     4.7   \n",
       "3                              Sketch - Draw & Paint  ART_AND_DESIGN     4.5   \n",
       "4              Pixel Draw - Number Art Coloring Book  ART_AND_DESIGN     4.3   \n",
       "\n",
       "  Reviews  Size     Installs  Type Price Content Rating  \\\n",
       "0     159   19M      10,000+  Free     0       Everyone   \n",
       "1     967   14M     500,000+  Free     0       Everyone   \n",
       "2   87510  8.7M   5,000,000+  Free     0       Everyone   \n",
       "3  215644   25M  50,000,000+  Free     0           Teen   \n",
       "4     967  2.8M     100,000+  Free     0       Everyone   \n",
       "\n",
       "                      Genres      Last Updated         Current Ver  \\\n",
       "0               Art & Design   January 7, 2018               1.0.0   \n",
       "1  Art & Design;Pretend Play  January 15, 2018               2.0.0   \n",
       "2               Art & Design    August 1, 2018               1.2.4   \n",
       "3               Art & Design      June 8, 2018  Varies with device   \n",
       "4    Art & Design;Creativity     June 20, 2018                 1.1   \n",
       "\n",
       "    Android Ver  \n",
       "0  4.0.3 and up  \n",
       "1  4.0.3 and up  \n",
       "2  4.0.3 and up  \n",
       "3    4.2 and up  \n",
       "4    4.4 and up  "
      ]
     },
     "execution_count": 3,
     "metadata": {},
     "output_type": "execute_result"
    }
   ],
   "source": [
    "df.head()"
   ]
  },
  {
   "cell_type": "code",
   "execution_count": 4,
   "id": "88a25cf6",
   "metadata": {
    "ExecuteTime": {
     "end_time": "2023-12-01T03:35:02.492073Z",
     "start_time": "2023-12-01T03:35:02.482276Z"
    }
   },
   "outputs": [
    {
     "data": {
      "text/plain": [
       "(10841, 13)"
      ]
     },
     "execution_count": 4,
     "metadata": {},
     "output_type": "execute_result"
    }
   ],
   "source": [
    "df.shape"
   ]
  },
  {
   "cell_type": "code",
   "execution_count": 5,
   "id": "d7a5625b",
   "metadata": {
    "ExecuteTime": {
     "end_time": "2023-12-01T03:35:12.803277Z",
     "start_time": "2023-12-01T03:35:12.751122Z"
    }
   },
   "outputs": [
    {
     "name": "stdout",
     "output_type": "stream",
     "text": [
      "<class 'pandas.core.frame.DataFrame'>\n",
      "RangeIndex: 10841 entries, 0 to 10840\n",
      "Data columns (total 13 columns):\n",
      " #   Column          Non-Null Count  Dtype  \n",
      "---  ------          --------------  -----  \n",
      " 0   App             10841 non-null  object \n",
      " 1   Category        10841 non-null  object \n",
      " 2   Rating          9367 non-null   float64\n",
      " 3   Reviews         10841 non-null  object \n",
      " 4   Size            10841 non-null  object \n",
      " 5   Installs        10841 non-null  object \n",
      " 6   Type            10840 non-null  object \n",
      " 7   Price           10841 non-null  object \n",
      " 8   Content Rating  10840 non-null  object \n",
      " 9   Genres          10841 non-null  object \n",
      " 10  Last Updated    10841 non-null  object \n",
      " 11  Current Ver     10833 non-null  object \n",
      " 12  Android Ver     10838 non-null  object \n",
      "dtypes: float64(1), object(12)\n",
      "memory usage: 1.1+ MB\n"
     ]
    }
   ],
   "source": [
    "df.info()"
   ]
  },
  {
   "cell_type": "markdown",
   "id": "c7d96539",
   "metadata": {},
   "source": [
    "There are 10841 records in the data,\n",
    "there are 13 columns out of that 12 columns are in object data type ,1 columns is in float data type.\n",
    "in rating columns the majority of missing values are presents compared to other column,The data types of some columns need to be treated."
   ]
  },
  {
   "cell_type": "markdown",
   "id": "6b8022fa",
   "metadata": {},
   "source": [
    "# 3. Check summary statistics of the dataset. List out the columns that need to be worked upon for model building"
   ]
  },
  {
   "cell_type": "code",
   "execution_count": null,
   "id": "84c74057",
   "metadata": {},
   "outputs": [],
   "source": []
  },
  {
   "cell_type": "code",
   "execution_count": 6,
   "id": "e128afd4",
   "metadata": {
    "ExecuteTime": {
     "end_time": "2023-11-28T02:54:47.092590Z",
     "start_time": "2023-11-28T02:54:47.066250Z"
    }
   },
   "outputs": [
    {
     "data": {
      "text/html": [
       "<div>\n",
       "<style scoped>\n",
       "    .dataframe tbody tr th:only-of-type {\n",
       "        vertical-align: middle;\n",
       "    }\n",
       "\n",
       "    .dataframe tbody tr th {\n",
       "        vertical-align: top;\n",
       "    }\n",
       "\n",
       "    .dataframe thead th {\n",
       "        text-align: right;\n",
       "    }\n",
       "</style>\n",
       "<table border=\"1\" class=\"dataframe\">\n",
       "  <thead>\n",
       "    <tr style=\"text-align: right;\">\n",
       "      <th></th>\n",
       "      <th>Rating</th>\n",
       "    </tr>\n",
       "  </thead>\n",
       "  <tbody>\n",
       "    <tr>\n",
       "      <th>count</th>\n",
       "      <td>9367.000000</td>\n",
       "    </tr>\n",
       "    <tr>\n",
       "      <th>mean</th>\n",
       "      <td>4.193338</td>\n",
       "    </tr>\n",
       "    <tr>\n",
       "      <th>std</th>\n",
       "      <td>0.537431</td>\n",
       "    </tr>\n",
       "    <tr>\n",
       "      <th>min</th>\n",
       "      <td>1.000000</td>\n",
       "    </tr>\n",
       "    <tr>\n",
       "      <th>25%</th>\n",
       "      <td>4.000000</td>\n",
       "    </tr>\n",
       "    <tr>\n",
       "      <th>50%</th>\n",
       "      <td>4.300000</td>\n",
       "    </tr>\n",
       "    <tr>\n",
       "      <th>75%</th>\n",
       "      <td>4.500000</td>\n",
       "    </tr>\n",
       "    <tr>\n",
       "      <th>max</th>\n",
       "      <td>19.000000</td>\n",
       "    </tr>\n",
       "  </tbody>\n",
       "</table>\n",
       "</div>"
      ],
      "text/plain": [
       "            Rating\n",
       "count  9367.000000\n",
       "mean      4.193338\n",
       "std       0.537431\n",
       "min       1.000000\n",
       "25%       4.000000\n",
       "50%       4.300000\n",
       "75%       4.500000\n",
       "max      19.000000"
      ]
     },
     "execution_count": 6,
     "metadata": {},
     "output_type": "execute_result"
    }
   ],
   "source": [
    "df.describe()"
   ]
  },
  {
   "cell_type": "markdown",
   "id": "6458cd6f",
   "metadata": {},
   "source": [
    "The average rating of the apps is 4.2 the standard deviation is 0.54,25% of the apps rating is below 4,  75% of the apps in the dataset have the rating below 4.3 so most of the apps are good rated but the maximum rating is 19 it seems there is a outliers in the rating column that is right skewed it needs to br corrected,that needs to be fixed"
   ]
  },
  {
   "cell_type": "code",
   "execution_count": 7,
   "id": "0dc43a77",
   "metadata": {
    "ExecuteTime": {
     "end_time": "2023-11-28T02:54:47.170925Z",
     "start_time": "2023-11-28T02:54:47.097262Z"
    }
   },
   "outputs": [
    {
     "data": {
      "text/html": [
       "<div>\n",
       "<style scoped>\n",
       "    .dataframe tbody tr th:only-of-type {\n",
       "        vertical-align: middle;\n",
       "    }\n",
       "\n",
       "    .dataframe tbody tr th {\n",
       "        vertical-align: top;\n",
       "    }\n",
       "\n",
       "    .dataframe thead th {\n",
       "        text-align: right;\n",
       "    }\n",
       "</style>\n",
       "<table border=\"1\" class=\"dataframe\">\n",
       "  <thead>\n",
       "    <tr style=\"text-align: right;\">\n",
       "      <th></th>\n",
       "      <th>App</th>\n",
       "      <th>Category</th>\n",
       "      <th>Reviews</th>\n",
       "      <th>Size</th>\n",
       "      <th>Installs</th>\n",
       "      <th>Type</th>\n",
       "      <th>Price</th>\n",
       "      <th>Content Rating</th>\n",
       "      <th>Genres</th>\n",
       "      <th>Last Updated</th>\n",
       "      <th>Current Ver</th>\n",
       "      <th>Android Ver</th>\n",
       "    </tr>\n",
       "  </thead>\n",
       "  <tbody>\n",
       "    <tr>\n",
       "      <th>count</th>\n",
       "      <td>10841</td>\n",
       "      <td>10841</td>\n",
       "      <td>10841</td>\n",
       "      <td>10841</td>\n",
       "      <td>10841</td>\n",
       "      <td>10840</td>\n",
       "      <td>10841</td>\n",
       "      <td>10840</td>\n",
       "      <td>10841</td>\n",
       "      <td>10841</td>\n",
       "      <td>10833</td>\n",
       "      <td>10838</td>\n",
       "    </tr>\n",
       "    <tr>\n",
       "      <th>unique</th>\n",
       "      <td>9660</td>\n",
       "      <td>34</td>\n",
       "      <td>6002</td>\n",
       "      <td>462</td>\n",
       "      <td>22</td>\n",
       "      <td>3</td>\n",
       "      <td>93</td>\n",
       "      <td>6</td>\n",
       "      <td>120</td>\n",
       "      <td>1378</td>\n",
       "      <td>2832</td>\n",
       "      <td>33</td>\n",
       "    </tr>\n",
       "    <tr>\n",
       "      <th>top</th>\n",
       "      <td>ROBLOX</td>\n",
       "      <td>FAMILY</td>\n",
       "      <td>0</td>\n",
       "      <td>Varies with device</td>\n",
       "      <td>1,000,000+</td>\n",
       "      <td>Free</td>\n",
       "      <td>0</td>\n",
       "      <td>Everyone</td>\n",
       "      <td>Tools</td>\n",
       "      <td>August 3, 2018</td>\n",
       "      <td>Varies with device</td>\n",
       "      <td>4.1 and up</td>\n",
       "    </tr>\n",
       "    <tr>\n",
       "      <th>freq</th>\n",
       "      <td>9</td>\n",
       "      <td>1972</td>\n",
       "      <td>596</td>\n",
       "      <td>1695</td>\n",
       "      <td>1579</td>\n",
       "      <td>10039</td>\n",
       "      <td>10040</td>\n",
       "      <td>8714</td>\n",
       "      <td>842</td>\n",
       "      <td>326</td>\n",
       "      <td>1459</td>\n",
       "      <td>2451</td>\n",
       "    </tr>\n",
       "  </tbody>\n",
       "</table>\n",
       "</div>"
      ],
      "text/plain": [
       "           App Category Reviews                Size    Installs   Type  Price  \\\n",
       "count    10841    10841   10841               10841       10841  10840  10841   \n",
       "unique    9660       34    6002                 462          22      3     93   \n",
       "top     ROBLOX   FAMILY       0  Varies with device  1,000,000+   Free      0   \n",
       "freq         9     1972     596                1695        1579  10039  10040   \n",
       "\n",
       "       Content Rating Genres    Last Updated         Current Ver Android Ver  \n",
       "count           10840  10841           10841               10833       10838  \n",
       "unique              6    120            1378                2832          33  \n",
       "top          Everyone  Tools  August 3, 2018  Varies with device  4.1 and up  \n",
       "freq             8714    842             326                1459        2451  "
      ]
     },
     "execution_count": 7,
     "metadata": {},
     "output_type": "execute_result"
    }
   ],
   "source": [
    "df.describe(include=\"object\")"
   ]
  },
  {
   "cell_type": "raw",
   "id": "864c4a62",
   "metadata": {},
   "source": [
    "> In the data set there are 9660 unique apps are there,\n",
    "  which belongs to 34 unique category,\n",
    ">The Review,size,Installs,price are in the object data type need\n",
    "  to be converted into numeric data type\n",
    ">The column needs to be worked upon for model:\n",
    " category,Review,Size(as it have the varies with device),installs,price,type(we need to change the data type of some \n",
    " numeric columns and encode the categorical features)\n",
    " >The type can be encoded using label encoding"
   ]
  },
  {
   "cell_type": "markdown",
   "id": "42267cf0",
   "metadata": {},
   "source": [
    "# 4. Check if there are any duplicate records in the dataset? if any drop them.\n"
   ]
  },
  {
   "cell_type": "code",
   "execution_count": 8,
   "id": "4bb377a8",
   "metadata": {
    "ExecuteTime": {
     "end_time": "2023-11-28T02:54:47.202685Z",
     "start_time": "2023-11-28T02:54:47.174853Z"
    }
   },
   "outputs": [
    {
     "data": {
      "text/plain": [
       "483"
      ]
     },
     "execution_count": 8,
     "metadata": {},
     "output_type": "execute_result"
    }
   ],
   "source": [
    "df.duplicated().sum()"
   ]
  },
  {
   "cell_type": "markdown",
   "id": "3701c1d5",
   "metadata": {},
   "source": [
    "There are 483 duplicates are presents"
   ]
  },
  {
   "cell_type": "code",
   "execution_count": 9,
   "id": "8dd52313",
   "metadata": {
    "ExecuteTime": {
     "end_time": "2023-11-28T02:54:47.262147Z",
     "start_time": "2023-11-28T02:54:47.209398Z"
    }
   },
   "outputs": [
    {
     "data": {
      "text/html": [
       "<div>\n",
       "<style scoped>\n",
       "    .dataframe tbody tr th:only-of-type {\n",
       "        vertical-align: middle;\n",
       "    }\n",
       "\n",
       "    .dataframe tbody tr th {\n",
       "        vertical-align: top;\n",
       "    }\n",
       "\n",
       "    .dataframe thead th {\n",
       "        text-align: right;\n",
       "    }\n",
       "</style>\n",
       "<table border=\"1\" class=\"dataframe\">\n",
       "  <thead>\n",
       "    <tr style=\"text-align: right;\">\n",
       "      <th></th>\n",
       "      <th>App</th>\n",
       "      <th>Category</th>\n",
       "      <th>Rating</th>\n",
       "      <th>Reviews</th>\n",
       "      <th>Size</th>\n",
       "      <th>Installs</th>\n",
       "      <th>Type</th>\n",
       "      <th>Price</th>\n",
       "      <th>Content Rating</th>\n",
       "      <th>Genres</th>\n",
       "      <th>Last Updated</th>\n",
       "      <th>Current Ver</th>\n",
       "      <th>Android Ver</th>\n",
       "    </tr>\n",
       "  </thead>\n",
       "  <tbody>\n",
       "    <tr>\n",
       "      <th>229</th>\n",
       "      <td>Quick PDF Scanner + OCR FREE</td>\n",
       "      <td>BUSINESS</td>\n",
       "      <td>4.2</td>\n",
       "      <td>80805</td>\n",
       "      <td>Varies with device</td>\n",
       "      <td>5,000,000+</td>\n",
       "      <td>Free</td>\n",
       "      <td>0</td>\n",
       "      <td>Everyone</td>\n",
       "      <td>Business</td>\n",
       "      <td>February 26, 2018</td>\n",
       "      <td>Varies with device</td>\n",
       "      <td>4.0.3 and up</td>\n",
       "    </tr>\n",
       "    <tr>\n",
       "      <th>236</th>\n",
       "      <td>Box</td>\n",
       "      <td>BUSINESS</td>\n",
       "      <td>4.2</td>\n",
       "      <td>159872</td>\n",
       "      <td>Varies with device</td>\n",
       "      <td>10,000,000+</td>\n",
       "      <td>Free</td>\n",
       "      <td>0</td>\n",
       "      <td>Everyone</td>\n",
       "      <td>Business</td>\n",
       "      <td>July 31, 2018</td>\n",
       "      <td>Varies with device</td>\n",
       "      <td>Varies with device</td>\n",
       "    </tr>\n",
       "    <tr>\n",
       "      <th>239</th>\n",
       "      <td>Google My Business</td>\n",
       "      <td>BUSINESS</td>\n",
       "      <td>4.4</td>\n",
       "      <td>70991</td>\n",
       "      <td>Varies with device</td>\n",
       "      <td>5,000,000+</td>\n",
       "      <td>Free</td>\n",
       "      <td>0</td>\n",
       "      <td>Everyone</td>\n",
       "      <td>Business</td>\n",
       "      <td>July 24, 2018</td>\n",
       "      <td>2.19.0.204537701</td>\n",
       "      <td>4.4 and up</td>\n",
       "    </tr>\n",
       "    <tr>\n",
       "      <th>256</th>\n",
       "      <td>ZOOM Cloud Meetings</td>\n",
       "      <td>BUSINESS</td>\n",
       "      <td>4.4</td>\n",
       "      <td>31614</td>\n",
       "      <td>37M</td>\n",
       "      <td>10,000,000+</td>\n",
       "      <td>Free</td>\n",
       "      <td>0</td>\n",
       "      <td>Everyone</td>\n",
       "      <td>Business</td>\n",
       "      <td>July 20, 2018</td>\n",
       "      <td>4.1.28165.0716</td>\n",
       "      <td>4.0 and up</td>\n",
       "    </tr>\n",
       "    <tr>\n",
       "      <th>261</th>\n",
       "      <td>join.me - Simple Meetings</td>\n",
       "      <td>BUSINESS</td>\n",
       "      <td>4.0</td>\n",
       "      <td>6989</td>\n",
       "      <td>Varies with device</td>\n",
       "      <td>1,000,000+</td>\n",
       "      <td>Free</td>\n",
       "      <td>0</td>\n",
       "      <td>Everyone</td>\n",
       "      <td>Business</td>\n",
       "      <td>July 16, 2018</td>\n",
       "      <td>4.3.0.508</td>\n",
       "      <td>4.4 and up</td>\n",
       "    </tr>\n",
       "    <tr>\n",
       "      <th>...</th>\n",
       "      <td>...</td>\n",
       "      <td>...</td>\n",
       "      <td>...</td>\n",
       "      <td>...</td>\n",
       "      <td>...</td>\n",
       "      <td>...</td>\n",
       "      <td>...</td>\n",
       "      <td>...</td>\n",
       "      <td>...</td>\n",
       "      <td>...</td>\n",
       "      <td>...</td>\n",
       "      <td>...</td>\n",
       "      <td>...</td>\n",
       "    </tr>\n",
       "    <tr>\n",
       "      <th>8643</th>\n",
       "      <td>Wunderlist: To-Do List &amp; Tasks</td>\n",
       "      <td>PRODUCTIVITY</td>\n",
       "      <td>4.6</td>\n",
       "      <td>404610</td>\n",
       "      <td>Varies with device</td>\n",
       "      <td>10,000,000+</td>\n",
       "      <td>Free</td>\n",
       "      <td>0</td>\n",
       "      <td>Everyone</td>\n",
       "      <td>Productivity</td>\n",
       "      <td>April 6, 2018</td>\n",
       "      <td>Varies with device</td>\n",
       "      <td>Varies with device</td>\n",
       "    </tr>\n",
       "    <tr>\n",
       "      <th>8654</th>\n",
       "      <td>TickTick: To Do List with Reminder, Day Planner</td>\n",
       "      <td>PRODUCTIVITY</td>\n",
       "      <td>4.6</td>\n",
       "      <td>25370</td>\n",
       "      <td>Varies with device</td>\n",
       "      <td>1,000,000+</td>\n",
       "      <td>Free</td>\n",
       "      <td>0</td>\n",
       "      <td>Everyone</td>\n",
       "      <td>Productivity</td>\n",
       "      <td>August 6, 2018</td>\n",
       "      <td>Varies with device</td>\n",
       "      <td>Varies with device</td>\n",
       "    </tr>\n",
       "    <tr>\n",
       "      <th>8658</th>\n",
       "      <td>ColorNote Notepad Notes</td>\n",
       "      <td>PRODUCTIVITY</td>\n",
       "      <td>4.6</td>\n",
       "      <td>2401017</td>\n",
       "      <td>Varies with device</td>\n",
       "      <td>100,000,000+</td>\n",
       "      <td>Free</td>\n",
       "      <td>0</td>\n",
       "      <td>Everyone</td>\n",
       "      <td>Productivity</td>\n",
       "      <td>June 27, 2018</td>\n",
       "      <td>Varies with device</td>\n",
       "      <td>Varies with device</td>\n",
       "    </tr>\n",
       "    <tr>\n",
       "      <th>10049</th>\n",
       "      <td>Airway Ex - Intubate. Anesthetize. Train.</td>\n",
       "      <td>MEDICAL</td>\n",
       "      <td>4.3</td>\n",
       "      <td>123</td>\n",
       "      <td>86M</td>\n",
       "      <td>10,000+</td>\n",
       "      <td>Free</td>\n",
       "      <td>0</td>\n",
       "      <td>Everyone</td>\n",
       "      <td>Medical</td>\n",
       "      <td>June 1, 2018</td>\n",
       "      <td>0.6.88</td>\n",
       "      <td>5.0 and up</td>\n",
       "    </tr>\n",
       "    <tr>\n",
       "      <th>10768</th>\n",
       "      <td>AAFP</td>\n",
       "      <td>MEDICAL</td>\n",
       "      <td>3.8</td>\n",
       "      <td>63</td>\n",
       "      <td>24M</td>\n",
       "      <td>10,000+</td>\n",
       "      <td>Free</td>\n",
       "      <td>0</td>\n",
       "      <td>Everyone</td>\n",
       "      <td>Medical</td>\n",
       "      <td>June 22, 2018</td>\n",
       "      <td>2.3.1</td>\n",
       "      <td>5.0 and up</td>\n",
       "    </tr>\n",
       "  </tbody>\n",
       "</table>\n",
       "<p>483 rows × 13 columns</p>\n",
       "</div>"
      ],
      "text/plain": [
       "                                                   App      Category  Rating  \\\n",
       "229                       Quick PDF Scanner + OCR FREE      BUSINESS     4.2   \n",
       "236                                                Box      BUSINESS     4.2   \n",
       "239                                 Google My Business      BUSINESS     4.4   \n",
       "256                                ZOOM Cloud Meetings      BUSINESS     4.4   \n",
       "261                          join.me - Simple Meetings      BUSINESS     4.0   \n",
       "...                                                ...           ...     ...   \n",
       "8643                    Wunderlist: To-Do List & Tasks  PRODUCTIVITY     4.6   \n",
       "8654   TickTick: To Do List with Reminder, Day Planner  PRODUCTIVITY     4.6   \n",
       "8658                           ColorNote Notepad Notes  PRODUCTIVITY     4.6   \n",
       "10049        Airway Ex - Intubate. Anesthetize. Train.       MEDICAL     4.3   \n",
       "10768                                             AAFP       MEDICAL     3.8   \n",
       "\n",
       "       Reviews                Size      Installs  Type Price Content Rating  \\\n",
       "229      80805  Varies with device    5,000,000+  Free     0       Everyone   \n",
       "236     159872  Varies with device   10,000,000+  Free     0       Everyone   \n",
       "239      70991  Varies with device    5,000,000+  Free     0       Everyone   \n",
       "256      31614                 37M   10,000,000+  Free     0       Everyone   \n",
       "261       6989  Varies with device    1,000,000+  Free     0       Everyone   \n",
       "...        ...                 ...           ...   ...   ...            ...   \n",
       "8643    404610  Varies with device   10,000,000+  Free     0       Everyone   \n",
       "8654     25370  Varies with device    1,000,000+  Free     0       Everyone   \n",
       "8658   2401017  Varies with device  100,000,000+  Free     0       Everyone   \n",
       "10049      123                 86M       10,000+  Free     0       Everyone   \n",
       "10768       63                 24M       10,000+  Free     0       Everyone   \n",
       "\n",
       "             Genres       Last Updated         Current Ver         Android Ver  \n",
       "229        Business  February 26, 2018  Varies with device        4.0.3 and up  \n",
       "236        Business      July 31, 2018  Varies with device  Varies with device  \n",
       "239        Business      July 24, 2018    2.19.0.204537701          4.4 and up  \n",
       "256        Business      July 20, 2018      4.1.28165.0716          4.0 and up  \n",
       "261        Business      July 16, 2018           4.3.0.508          4.4 and up  \n",
       "...             ...                ...                 ...                 ...  \n",
       "8643   Productivity      April 6, 2018  Varies with device  Varies with device  \n",
       "8654   Productivity     August 6, 2018  Varies with device  Varies with device  \n",
       "8658   Productivity      June 27, 2018  Varies with device  Varies with device  \n",
       "10049       Medical       June 1, 2018              0.6.88          5.0 and up  \n",
       "10768       Medical      June 22, 2018               2.3.1          5.0 and up  \n",
       "\n",
       "[483 rows x 13 columns]"
      ]
     },
     "execution_count": 9,
     "metadata": {},
     "output_type": "execute_result"
    }
   ],
   "source": [
    "df[df.duplicated()]"
   ]
  },
  {
   "cell_type": "code",
   "execution_count": 10,
   "id": "6bd0891f",
   "metadata": {
    "ExecuteTime": {
     "end_time": "2023-12-01T03:46:40.530207Z",
     "start_time": "2023-12-01T03:46:40.482568Z"
    }
   },
   "outputs": [],
   "source": [
    "#duplicates were droped\n",
    "df.drop_duplicates(inplace=True)"
   ]
  },
  {
   "cell_type": "code",
   "execution_count": 11,
   "id": "1d74eaf6",
   "metadata": {
    "ExecuteTime": {
     "end_time": "2023-12-01T03:46:41.182849Z",
     "start_time": "2023-12-01T03:46:41.145449Z"
    }
   },
   "outputs": [
    {
     "data": {
      "text/plain": [
       "0"
      ]
     },
     "execution_count": 11,
     "metadata": {},
     "output_type": "execute_result"
    }
   ],
   "source": [
    "df.duplicated().sum()"
   ]
  },
  {
   "cell_type": "markdown",
   "id": "95670405",
   "metadata": {},
   "source": [
    "#  5.Check the unique categories of the column 'Category', Is there any invalid category? If yes, drop them."
   ]
  },
  {
   "cell_type": "code",
   "execution_count": 12,
   "id": "2bc592ac",
   "metadata": {
    "ExecuteTime": {
     "end_time": "2023-11-28T02:54:47.339898Z",
     "start_time": "2023-11-28T02:54:47.324742Z"
    }
   },
   "outputs": [
    {
     "data": {
      "text/plain": [
       "array(['ART_AND_DESIGN', 'AUTO_AND_VEHICLES', 'BEAUTY',\n",
       "       'BOOKS_AND_REFERENCE', 'BUSINESS', 'COMICS', 'COMMUNICATION',\n",
       "       'DATING', 'EDUCATION', 'ENTERTAINMENT', 'EVENTS', 'FINANCE',\n",
       "       'FOOD_AND_DRINK', 'HEALTH_AND_FITNESS', 'HOUSE_AND_HOME',\n",
       "       'LIBRARIES_AND_DEMO', 'LIFESTYLE', 'GAME', 'FAMILY', 'MEDICAL',\n",
       "       'SOCIAL', 'SHOPPING', 'PHOTOGRAPHY', 'SPORTS', 'TRAVEL_AND_LOCAL',\n",
       "       'TOOLS', 'PERSONALIZATION', 'PRODUCTIVITY', 'PARENTING', 'WEATHER',\n",
       "       'VIDEO_PLAYERS', 'NEWS_AND_MAGAZINES', 'MAPS_AND_NAVIGATION',\n",
       "       '1.9'], dtype=object)"
      ]
     },
     "execution_count": 12,
     "metadata": {},
     "output_type": "execute_result"
    }
   ],
   "source": [
    "df[\"Category\"].unique()"
   ]
  },
  {
   "cell_type": "markdown",
   "id": "6dc80135",
   "metadata": {},
   "source": [
    "There is one invalid category 1.9"
   ]
  },
  {
   "cell_type": "code",
   "execution_count": 13,
   "id": "8134bfae",
   "metadata": {
    "ExecuteTime": {
     "end_time": "2023-12-01T03:48:16.809728Z",
     "start_time": "2023-12-01T03:48:16.784138Z"
    }
   },
   "outputs": [],
   "source": [
    "#droping invalid in category\n",
    "df.drop(df[df[\"Category\"]=='1.9'].index,inplace=True)"
   ]
  },
  {
   "cell_type": "code",
   "execution_count": 14,
   "id": "7d732bc1",
   "metadata": {
    "ExecuteTime": {
     "end_time": "2023-12-01T03:48:17.590215Z",
     "start_time": "2023-12-01T03:48:17.574071Z"
    }
   },
   "outputs": [
    {
     "data": {
      "text/plain": [
       "(10357, 13)"
      ]
     },
     "execution_count": 14,
     "metadata": {},
     "output_type": "execute_result"
    }
   ],
   "source": [
    "df.shape"
   ]
  },
  {
   "cell_type": "code",
   "execution_count": null,
   "id": "ba6de6e0",
   "metadata": {},
   "outputs": [],
   "source": []
  },
  {
   "cell_type": "markdown",
   "id": "f8bb90ff",
   "metadata": {},
   "source": [
    "# 6. Check if there are missing values present in the column Rating, If any? drop them and and create a new column as 'Rating_category' by converting ratings to high and low categories(>3.5 is high rest low)\n"
   ]
  },
  {
   "cell_type": "code",
   "execution_count": 15,
   "id": "39838be7",
   "metadata": {
    "ExecuteTime": {
     "end_time": "2023-12-01T03:49:37.514426Z",
     "start_time": "2023-12-01T03:49:37.486552Z"
    }
   },
   "outputs": [
    {
     "data": {
      "text/plain": [
       "App                  0\n",
       "Category             0\n",
       "Rating            1465\n",
       "Reviews              0\n",
       "Size                 0\n",
       "Installs             0\n",
       "Type                 1\n",
       "Price                0\n",
       "Content Rating       0\n",
       "Genres               0\n",
       "Last Updated         0\n",
       "Current Ver          8\n",
       "Android Ver          2\n",
       "dtype: int64"
      ]
     },
     "execution_count": 15,
     "metadata": {},
     "output_type": "execute_result"
    }
   ],
   "source": [
    "df.isnull().sum()"
   ]
  },
  {
   "cell_type": "code",
   "execution_count": 16,
   "id": "8488bbfd",
   "metadata": {
    "ExecuteTime": {
     "end_time": "2023-12-01T03:50:01.912359Z",
     "start_time": "2023-12-01T03:50:01.888039Z"
    }
   },
   "outputs": [],
   "source": [
    "#droping the rows were rating is null\n",
    "df.dropna(subset=\"Rating\",inplace=True)"
   ]
  },
  {
   "cell_type": "code",
   "execution_count": 17,
   "id": "8c0773ae",
   "metadata": {
    "ExecuteTime": {
     "end_time": "2023-12-01T03:50:04.909936Z",
     "start_time": "2023-12-01T03:50:04.892110Z"
    }
   },
   "outputs": [
    {
     "data": {
      "text/plain": [
       "App               0\n",
       "Category          0\n",
       "Rating            0\n",
       "Reviews           0\n",
       "Size              0\n",
       "Installs          0\n",
       "Type              0\n",
       "Price             0\n",
       "Content Rating    0\n",
       "Genres            0\n",
       "Last Updated      0\n",
       "Current Ver       4\n",
       "Android Ver       2\n",
       "dtype: int64"
      ]
     },
     "execution_count": 17,
     "metadata": {},
     "output_type": "execute_result"
    }
   ],
   "source": [
    "df.isnull().sum()"
   ]
  },
  {
   "cell_type": "code",
   "execution_count": 18,
   "id": "6b80f8b3",
   "metadata": {
    "ExecuteTime": {
     "end_time": "2023-12-01T04:05:25.606566Z",
     "start_time": "2023-12-01T04:05:25.595419Z"
    }
   },
   "outputs": [],
   "source": [
    "#function to replace high and low\n",
    "def change(a):\n",
    "    if a>3.5:\n",
    "        return \"high\"\n",
    "    else:\n",
    "        return \"low\""
   ]
  },
  {
   "cell_type": "code",
   "execution_count": 19,
   "id": "9dfd8a9d",
   "metadata": {
    "ExecuteTime": {
     "end_time": "2023-12-01T04:05:26.543155Z",
     "start_time": "2023-12-01T04:05:26.520332Z"
    }
   },
   "outputs": [],
   "source": [
    "#applying fuctions\n",
    "df['Rating_category']=df[\"Rating\"].map(change)"
   ]
  },
  {
   "cell_type": "markdown",
   "id": "14151967",
   "metadata": {},
   "source": [
    "# 7. Check the distribution of the newly created column 'Rating_category' and comment on the distribution.\n"
   ]
  },
  {
   "cell_type": "code",
   "execution_count": 20,
   "id": "a31095d9",
   "metadata": {
    "ExecuteTime": {
     "end_time": "2023-12-01T04:05:41.068627Z",
     "start_time": "2023-12-01T04:05:40.720054Z"
    }
   },
   "outputs": [
    {
     "data": {
      "text/plain": [
       "<Axes: ylabel='proportion'>"
      ]
     },
     "execution_count": 20,
     "metadata": {},
     "output_type": "execute_result"
    },
    {
     "data": {
      "image/png": "[encoded data removed]",
      "text/plain": [
       "<Figure size 640x480 with 1 Axes>"
      ]
     },
     "metadata": {},
     "output_type": "display_data"
    }
   ],
   "source": [
    "df['Rating_category'].value_counts(normalize=True).plot(kind=\"pie\",autopct=\"%1.f%%\")"
   ]
  },
  {
   "cell_type": "markdown",
   "id": "b754df19",
   "metadata": {},
   "source": [
    "The distribution is imbalanced the mojarity is 90% and minority is 10% ,most of the apps in this dataset falls under high rating,this data is not suitable to presict the rating because the portion of high and low is not balanced thus the probability of the prediction expected to more on the high  side"
   ]
  },
  {
   "cell_type": "markdown",
   "id": "47cf4e53",
   "metadata": {},
   "source": [
    "# 8. Convert the column \"Reviews'' to numeric data type and check the presence of outliers in the column and handle the outliers using a transformation approach.(Hint: Use log transformation)"
   ]
  },
  {
   "cell_type": "code",
   "execution_count": 21,
   "id": "53db7cb1",
   "metadata": {
    "ExecuteTime": {
     "end_time": "2023-12-01T04:06:42.405958Z",
     "start_time": "2023-12-01T04:06:42.368967Z"
    }
   },
   "outputs": [],
   "source": [
    "df[\"Reviews\"]=pd.to_numeric(df[\"Reviews\"])"
   ]
  },
  {
   "cell_type": "code",
   "execution_count": 22,
   "id": "589d518a",
   "metadata": {
    "ExecuteTime": {
     "end_time": "2023-12-01T04:06:44.295428Z",
     "start_time": "2023-12-01T04:06:44.277582Z"
    }
   },
   "outputs": [
    {
     "data": {
      "text/plain": [
       "dtype('int64')"
      ]
     },
     "execution_count": 22,
     "metadata": {},
     "output_type": "execute_result"
    }
   ],
   "source": [
    "df[\"Reviews\"].dtypes"
   ]
  },
  {
   "cell_type": "code",
   "execution_count": 23,
   "id": "cdcbcdf3",
   "metadata": {
    "ExecuteTime": {
     "end_time": "2023-12-01T04:06:45.588416Z",
     "start_time": "2023-12-01T04:06:45.368617Z"
    }
   },
   "outputs": [
    {
     "data": {
      "text/plain": [
       "<Axes: >"
      ]
     },
     "execution_count": 23,
     "metadata": {},
     "output_type": "execute_result"
    },
    {
     "data": {
      "image/png": "[encoded data removed]",
      "text/plain": [
       "<Figure size 640x480 with 1 Axes>"
      ]
     },
     "metadata": {},
     "output_type": "display_data"
    }
   ],
   "source": [
    "sns.boxplot(df[\"Reviews\"])"
   ]
  },
  {
   "cell_type": "code",
   "execution_count": 24,
   "id": "a21a4b47",
   "metadata": {
    "ExecuteTime": {
     "end_time": "2023-12-01T04:06:48.007002Z",
     "start_time": "2023-12-01T04:06:47.992441Z"
    }
   },
   "outputs": [],
   "source": [
    "df[\"Reviews\"]=np.log(df[\"Reviews\"])"
   ]
  },
  {
   "cell_type": "code",
   "execution_count": 25,
   "id": "349d72a0",
   "metadata": {
    "ExecuteTime": {
     "end_time": "2023-12-01T04:07:11.281103Z",
     "start_time": "2023-12-01T04:07:11.094083Z"
    }
   },
   "outputs": [
    {
     "data": {
      "text/plain": [
       "<Axes: >"
      ]
     },
     "execution_count": 25,
     "metadata": {},
     "output_type": "execute_result"
    },
    {
     "data": {
      "image/png": "[encoded data removed]",
      "text/plain": [
       "<Figure size 640x480 with 1 Axes>"
      ]
     },
     "metadata": {},
     "output_type": "display_data"
    }
   ],
   "source": [
    "#After transformation\n",
    "sns.boxplot(df[\"Reviews\"])"
   ]
  },
  {
   "cell_type": "markdown",
   "id": "619e1aac",
   "metadata": {},
   "source": [
    "The outliers is treated now using log transformation"
   ]
  },
  {
   "cell_type": "markdown",
   "id": "5f49f077",
   "metadata": {},
   "source": [
    "# 9. The column 'Size' contains alphanumeric values, treat the non numeric data and convert the column into suitable data type. (hint: Replace M with 1 million and K with 1 thousand, and drop the entries where size='Varies with device')"
   ]
  },
  {
   "cell_type": "code",
   "execution_count": 26,
   "id": "f59f3882",
   "metadata": {
    "ExecuteTime": {
     "end_time": "2023-12-01T04:08:32.109867Z",
     "start_time": "2023-12-01T04:08:32.066161Z"
    }
   },
   "outputs": [],
   "source": [
    "df[\"Size\"]=df[\"Size\"].replace({\"M\":\"e6\",\"k\":\"e3\"},regex=True)"
   ]
  },
  {
   "cell_type": "code",
   "execution_count": 27,
   "id": "71f893f4",
   "metadata": {
    "ExecuteTime": {
     "end_time": "2023-12-01T04:08:44.642317Z",
     "start_time": "2023-12-01T04:08:44.629736Z"
    }
   },
   "outputs": [],
   "source": [
    "df.drop(df[df[\"Size\"]==\"Varies with device\"].index,inplace=True)"
   ]
  },
  {
   "cell_type": "code",
   "execution_count": 28,
   "id": "fab71198",
   "metadata": {
    "ExecuteTime": {
     "end_time": "2023-12-01T04:08:48.656511Z",
     "start_time": "2023-12-01T04:08:48.640901Z"
    }
   },
   "outputs": [],
   "source": [
    "df[\"Size\"]=df[\"Size\"].astype(float)"
   ]
  },
  {
   "cell_type": "markdown",
   "id": "20d08e46",
   "metadata": {},
   "source": [
    "# 10. Check the column 'Installs', treat the unwanted characters and convert the column into a suitable data type."
   ]
  },
  {
   "cell_type": "code",
   "execution_count": 29,
   "id": "81da6cbb",
   "metadata": {
    "ExecuteTime": {
     "end_time": "2023-12-01T04:19:18.451705Z",
     "start_time": "2023-12-01T04:19:18.418682Z"
    }
   },
   "outputs": [],
   "source": [
    "df[\"Installs\"]=(df[\"Installs\"].apply(lambda x:x.strip(\"+\")))\n",
    "df[\"Installs\"]=pd.to_numeric(df[\"Installs\"].replace(\",\",\"\",regex=True))\n"
   ]
  },
  {
   "cell_type": "code",
   "execution_count": 30,
   "id": "8af2fe01",
   "metadata": {
    "ExecuteTime": {
     "end_time": "2023-12-01T04:19:39.633564Z",
     "start_time": "2023-12-01T04:19:39.619965Z"
    }
   },
   "outputs": [
    {
     "data": {
      "text/plain": [
       "dtype('int64')"
      ]
     },
     "execution_count": 30,
     "metadata": {},
     "output_type": "execute_result"
    }
   ],
   "source": [
    "df[\"Installs\"].dtypes"
   ]
  },
  {
   "cell_type": "markdown",
   "id": "af9d1b96",
   "metadata": {},
   "source": [
    "# 11. Check the column 'Price' , remove the unwanted characters and convert the column into a suitable data type.\n"
   ]
  },
  {
   "cell_type": "code",
   "execution_count": 31,
   "id": "2eeb32c4",
   "metadata": {
    "ExecuteTime": {
     "end_time": "2023-12-01T04:19:51.081430Z",
     "start_time": "2023-12-01T04:19:51.064587Z"
    }
   },
   "outputs": [],
   "source": [
    "df[\"Price\"]=df[\"Price\"].replace(\"\\$\", \"\", regex=True)"
   ]
  },
  {
   "cell_type": "code",
   "execution_count": 32,
   "id": "60eae737",
   "metadata": {
    "ExecuteTime": {
     "end_time": "2023-12-01T04:19:52.691748Z",
     "start_time": "2023-12-01T04:19:52.678887Z"
    }
   },
   "outputs": [],
   "source": [
    "df[\"Price\"]=pd.to_numeric(df[\"Price\"])"
   ]
  },
  {
   "cell_type": "code",
   "execution_count": 33,
   "id": "a36f53d8",
   "metadata": {
    "ExecuteTime": {
     "end_time": "2023-12-01T04:19:54.978692Z",
     "start_time": "2023-12-01T04:19:54.969978Z"
    }
   },
   "outputs": [
    {
     "data": {
      "text/plain": [
       "Index(['App', 'Category', 'Rating', 'Reviews', 'Size', 'Installs', 'Type',\n",
       "       'Price', 'Content Rating', 'Genres', 'Last Updated', 'Current Ver',\n",
       "       'Android Ver', 'Rating_category'],\n",
       "      dtype='object')"
      ]
     },
     "execution_count": 33,
     "metadata": {},
     "output_type": "execute_result"
    }
   ],
   "source": [
    "df.columns"
   ]
  },
  {
   "cell_type": "code",
   "execution_count": null,
   "id": "5a427fe3",
   "metadata": {},
   "outputs": [],
   "source": []
  },
  {
   "cell_type": "markdown",
   "id": "b59a5ab6",
   "metadata": {},
   "source": [
    "# 12. Drop the columns which you think redundant for the analysis.(suggestion: drop column 'rating', since we created a new feature from it (i.e. rating_category) and the columns 'App', 'Rating' ,'Genres','Last Updated', 'Current Ver','Android Ver' columns since which are redundant for our analysis)"
   ]
  },
  {
   "cell_type": "code",
   "execution_count": 34,
   "id": "b9f8a991",
   "metadata": {
    "ExecuteTime": {
     "end_time": "2023-12-01T04:20:24.198392Z",
     "start_time": "2023-12-01T04:20:24.187627Z"
    }
   },
   "outputs": [],
   "source": [
    "df.drop(['App', 'Rating' ,'Genres','Last Updated', 'Current Ver','Android Ver'],axis=1,inplace=True)"
   ]
  },
  {
   "cell_type": "code",
   "execution_count": 35,
   "id": "df02faec",
   "metadata": {
    "ExecuteTime": {
     "end_time": "2023-12-01T04:20:26.421477Z",
     "start_time": "2023-12-01T04:20:26.405231Z"
    }
   },
   "outputs": [
    {
     "data": {
      "text/plain": [
       "Index(['Category', 'Reviews', 'Size', 'Installs', 'Type', 'Price',\n",
       "       'Content Rating', 'Rating_category'],\n",
       "      dtype='object')"
      ]
     },
     "execution_count": 35,
     "metadata": {},
     "output_type": "execute_result"
    }
   ],
   "source": [
    "df.columns"
   ]
  },
  {
   "cell_type": "code",
   "execution_count": 36,
   "id": "df4c0e79",
   "metadata": {
    "ExecuteTime": {
     "end_time": "2023-12-01T04:20:30.775016Z",
     "start_time": "2023-12-01T04:20:30.740220Z"
    }
   },
   "outputs": [
    {
     "data": {
      "text/html": [
       "<div>\n",
       "<style scoped>\n",
       "    .dataframe tbody tr th:only-of-type {\n",
       "        vertical-align: middle;\n",
       "    }\n",
       "\n",
       "    .dataframe tbody tr th {\n",
       "        vertical-align: top;\n",
       "    }\n",
       "\n",
       "    .dataframe thead th {\n",
       "        text-align: right;\n",
       "    }\n",
       "</style>\n",
       "<table border=\"1\" class=\"dataframe\">\n",
       "  <thead>\n",
       "    <tr style=\"text-align: right;\">\n",
       "      <th></th>\n",
       "      <th>Category</th>\n",
       "      <th>Reviews</th>\n",
       "      <th>Size</th>\n",
       "      <th>Installs</th>\n",
       "      <th>Type</th>\n",
       "      <th>Price</th>\n",
       "      <th>Content Rating</th>\n",
       "      <th>Rating_category</th>\n",
       "    </tr>\n",
       "  </thead>\n",
       "  <tbody>\n",
       "    <tr>\n",
       "      <th>0</th>\n",
       "      <td>ART_AND_DESIGN</td>\n",
       "      <td>5.068904</td>\n",
       "      <td>19000000.0</td>\n",
       "      <td>10000</td>\n",
       "      <td>Free</td>\n",
       "      <td>0.0</td>\n",
       "      <td>Everyone</td>\n",
       "      <td>high</td>\n",
       "    </tr>\n",
       "    <tr>\n",
       "      <th>1</th>\n",
       "      <td>ART_AND_DESIGN</td>\n",
       "      <td>6.874198</td>\n",
       "      <td>14000000.0</td>\n",
       "      <td>500000</td>\n",
       "      <td>Free</td>\n",
       "      <td>0.0</td>\n",
       "      <td>Everyone</td>\n",
       "      <td>high</td>\n",
       "    </tr>\n",
       "    <tr>\n",
       "      <th>2</th>\n",
       "      <td>ART_AND_DESIGN</td>\n",
       "      <td>11.379508</td>\n",
       "      <td>8700000.0</td>\n",
       "      <td>5000000</td>\n",
       "      <td>Free</td>\n",
       "      <td>0.0</td>\n",
       "      <td>Everyone</td>\n",
       "      <td>high</td>\n",
       "    </tr>\n",
       "    <tr>\n",
       "      <th>3</th>\n",
       "      <td>ART_AND_DESIGN</td>\n",
       "      <td>12.281384</td>\n",
       "      <td>25000000.0</td>\n",
       "      <td>50000000</td>\n",
       "      <td>Free</td>\n",
       "      <td>0.0</td>\n",
       "      <td>Teen</td>\n",
       "      <td>high</td>\n",
       "    </tr>\n",
       "    <tr>\n",
       "      <th>4</th>\n",
       "      <td>ART_AND_DESIGN</td>\n",
       "      <td>6.874198</td>\n",
       "      <td>2800000.0</td>\n",
       "      <td>100000</td>\n",
       "      <td>Free</td>\n",
       "      <td>0.0</td>\n",
       "      <td>Everyone</td>\n",
       "      <td>high</td>\n",
       "    </tr>\n",
       "    <tr>\n",
       "      <th>...</th>\n",
       "      <td>...</td>\n",
       "      <td>...</td>\n",
       "      <td>...</td>\n",
       "      <td>...</td>\n",
       "      <td>...</td>\n",
       "      <td>...</td>\n",
       "      <td>...</td>\n",
       "      <td>...</td>\n",
       "    </tr>\n",
       "    <tr>\n",
       "      <th>10833</th>\n",
       "      <td>BOOKS_AND_REFERENCE</td>\n",
       "      <td>3.784190</td>\n",
       "      <td>619000.0</td>\n",
       "      <td>1000</td>\n",
       "      <td>Free</td>\n",
       "      <td>0.0</td>\n",
       "      <td>Everyone</td>\n",
       "      <td>high</td>\n",
       "    </tr>\n",
       "    <tr>\n",
       "      <th>10834</th>\n",
       "      <td>FAMILY</td>\n",
       "      <td>1.945910</td>\n",
       "      <td>2600000.0</td>\n",
       "      <td>500</td>\n",
       "      <td>Free</td>\n",
       "      <td>0.0</td>\n",
       "      <td>Everyone</td>\n",
       "      <td>high</td>\n",
       "    </tr>\n",
       "    <tr>\n",
       "      <th>10836</th>\n",
       "      <td>FAMILY</td>\n",
       "      <td>3.637586</td>\n",
       "      <td>53000000.0</td>\n",
       "      <td>5000</td>\n",
       "      <td>Free</td>\n",
       "      <td>0.0</td>\n",
       "      <td>Everyone</td>\n",
       "      <td>high</td>\n",
       "    </tr>\n",
       "    <tr>\n",
       "      <th>10837</th>\n",
       "      <td>FAMILY</td>\n",
       "      <td>1.386294</td>\n",
       "      <td>3600000.0</td>\n",
       "      <td>100</td>\n",
       "      <td>Free</td>\n",
       "      <td>0.0</td>\n",
       "      <td>Everyone</td>\n",
       "      <td>high</td>\n",
       "    </tr>\n",
       "    <tr>\n",
       "      <th>10840</th>\n",
       "      <td>LIFESTYLE</td>\n",
       "      <td>12.894978</td>\n",
       "      <td>19000000.0</td>\n",
       "      <td>10000000</td>\n",
       "      <td>Free</td>\n",
       "      <td>0.0</td>\n",
       "      <td>Everyone</td>\n",
       "      <td>high</td>\n",
       "    </tr>\n",
       "  </tbody>\n",
       "</table>\n",
       "<p>7424 rows × 8 columns</p>\n",
       "</div>"
      ],
      "text/plain": [
       "                  Category    Reviews        Size  Installs  Type  Price  \\\n",
       "0           ART_AND_DESIGN   5.068904  19000000.0     10000  Free    0.0   \n",
       "1           ART_AND_DESIGN   6.874198  14000000.0    500000  Free    0.0   \n",
       "2           ART_AND_DESIGN  11.379508   8700000.0   5000000  Free    0.0   \n",
       "3           ART_AND_DESIGN  12.281384  25000000.0  50000000  Free    0.0   \n",
       "4           ART_AND_DESIGN   6.874198   2800000.0    100000  Free    0.0   \n",
       "...                    ...        ...         ...       ...   ...    ...   \n",
       "10833  BOOKS_AND_REFERENCE   3.784190    619000.0      1000  Free    0.0   \n",
       "10834               FAMILY   1.945910   2600000.0       500  Free    0.0   \n",
       "10836               FAMILY   3.637586  53000000.0      5000  Free    0.0   \n",
       "10837               FAMILY   1.386294   3600000.0       100  Free    0.0   \n",
       "10840            LIFESTYLE  12.894978  19000000.0  10000000  Free    0.0   \n",
       "\n",
       "      Content Rating Rating_category  \n",
       "0           Everyone            high  \n",
       "1           Everyone            high  \n",
       "2           Everyone            high  \n",
       "3               Teen            high  \n",
       "4           Everyone            high  \n",
       "...              ...             ...  \n",
       "10833       Everyone            high  \n",
       "10834       Everyone            high  \n",
       "10836       Everyone            high  \n",
       "10837       Everyone            high  \n",
       "10840       Everyone            high  \n",
       "\n",
       "[7424 rows x 8 columns]"
      ]
     },
     "execution_count": 36,
     "metadata": {},
     "output_type": "execute_result"
    }
   ],
   "source": [
    "df"
   ]
  },
  {
   "cell_type": "code",
   "execution_count": 37,
   "id": "a140a1d6",
   "metadata": {
    "ExecuteTime": {
     "end_time": "2023-12-01T04:21:50.467223Z",
     "start_time": "2023-12-01T04:21:50.449994Z"
    }
   },
   "outputs": [
    {
     "data": {
      "text/plain": [
       "Type\n",
       "Free    6877\n",
       "Paid     547\n",
       "Name: count, dtype: int64"
      ]
     },
     "execution_count": 37,
     "metadata": {},
     "output_type": "execute_result"
    }
   ],
   "source": [
    "df[\"Type\"].value_counts()"
   ]
  },
  {
   "cell_type": "markdown",
   "id": "0db0ba16",
   "metadata": {},
   "source": [
    "# 13. Encode the categorical columns."
   ]
  },
  {
   "cell_type": "code",
   "execution_count": 38,
   "id": "a146e8db",
   "metadata": {
    "ExecuteTime": {
     "end_time": "2023-12-01T04:22:02.988430Z",
     "start_time": "2023-12-01T04:22:02.962045Z"
    }
   },
   "outputs": [],
   "source": [
    "dummy=pd.get_dummies(data=df,columns=['Category','Content Rating'],drop_first=True)"
   ]
  },
  {
   "cell_type": "code",
   "execution_count": 39,
   "id": "bbd48237",
   "metadata": {
    "ExecuteTime": {
     "end_time": "2023-12-01T04:22:19.677248Z",
     "start_time": "2023-12-01T04:22:19.658722Z"
    }
   },
   "outputs": [],
   "source": [
    "dummy['Rating_category']=dummy['Rating_category'].replace({\"low\":0,\"high\":1})\n",
    "dummy[\"Type\"]=dummy[\"Type\"].replace({\"Free\":0,\"Paid\":1})"
   ]
  },
  {
   "cell_type": "code",
   "execution_count": 40,
   "id": "0024f030",
   "metadata": {
    "ExecuteTime": {
     "end_time": "2023-12-01T04:22:20.959515Z",
     "start_time": "2023-12-01T04:22:20.928142Z"
    }
   },
   "outputs": [
    {
     "name": "stdout",
     "output_type": "stream",
     "text": [
      "<class 'pandas.core.frame.DataFrame'>\n",
      "Index: 7424 entries, 0 to 10840\n",
      "Data columns (total 43 columns):\n",
      " #   Column                        Non-Null Count  Dtype  \n",
      "---  ------                        --------------  -----  \n",
      " 0   Reviews                       7424 non-null   float64\n",
      " 1   Size                          7424 non-null   float64\n",
      " 2   Installs                      7424 non-null   int64  \n",
      " 3   Type                          7424 non-null   int64  \n",
      " 4   Price                         7424 non-null   float64\n",
      " 5   Rating_category               7424 non-null   int64  \n",
      " 6   Category_AUTO_AND_VEHICLES    7424 non-null   bool   \n",
      " 7   Category_BEAUTY               7424 non-null   bool   \n",
      " 8   Category_BOOKS_AND_REFERENCE  7424 non-null   bool   \n",
      " 9   Category_BUSINESS             7424 non-null   bool   \n",
      " 10  Category_COMICS               7424 non-null   bool   \n",
      " 11  Category_COMMUNICATION        7424 non-null   bool   \n",
      " 12  Category_DATING               7424 non-null   bool   \n",
      " 13  Category_EDUCATION            7424 non-null   bool   \n",
      " 14  Category_ENTERTAINMENT        7424 non-null   bool   \n",
      " 15  Category_EVENTS               7424 non-null   bool   \n",
      " 16  Category_FAMILY               7424 non-null   bool   \n",
      " 17  Category_FINANCE              7424 non-null   bool   \n",
      " 18  Category_FOOD_AND_DRINK       7424 non-null   bool   \n",
      " 19  Category_GAME                 7424 non-null   bool   \n",
      " 20  Category_HEALTH_AND_FITNESS   7424 non-null   bool   \n",
      " 21  Category_HOUSE_AND_HOME       7424 non-null   bool   \n",
      " 22  Category_LIBRARIES_AND_DEMO   7424 non-null   bool   \n",
      " 23  Category_LIFESTYLE            7424 non-null   bool   \n",
      " 24  Category_MAPS_AND_NAVIGATION  7424 non-null   bool   \n",
      " 25  Category_MEDICAL              7424 non-null   bool   \n",
      " 26  Category_NEWS_AND_MAGAZINES   7424 non-null   bool   \n",
      " 27  Category_PARENTING            7424 non-null   bool   \n",
      " 28  Category_PERSONALIZATION      7424 non-null   bool   \n",
      " 29  Category_PHOTOGRAPHY          7424 non-null   bool   \n",
      " 30  Category_PRODUCTIVITY         7424 non-null   bool   \n",
      " 31  Category_SHOPPING             7424 non-null   bool   \n",
      " 32  Category_SOCIAL               7424 non-null   bool   \n",
      " 33  Category_SPORTS               7424 non-null   bool   \n",
      " 34  Category_TOOLS                7424 non-null   bool   \n",
      " 35  Category_TRAVEL_AND_LOCAL     7424 non-null   bool   \n",
      " 36  Category_VIDEO_PLAYERS        7424 non-null   bool   \n",
      " 37  Category_WEATHER              7424 non-null   bool   \n",
      " 38  Content Rating_Everyone       7424 non-null   bool   \n",
      " 39  Content Rating_Everyone 10+   7424 non-null   bool   \n",
      " 40  Content Rating_Mature 17+     7424 non-null   bool   \n",
      " 41  Content Rating_Teen           7424 non-null   bool   \n",
      " 42  Content Rating_Unrated        7424 non-null   bool   \n",
      "dtypes: bool(37), float64(3), int64(3)\n",
      "memory usage: 674.2 KB\n"
     ]
    }
   ],
   "source": [
    "dummy.info()"
   ]
  },
  {
   "cell_type": "markdown",
   "id": "6594d696",
   "metadata": {},
   "source": [
    "# 14. Segregate the target and independent features (Hint: Use Rating_category as the target)"
   ]
  },
  {
   "cell_type": "code",
   "execution_count": 41,
   "id": "09249bd8",
   "metadata": {
    "ExecuteTime": {
     "end_time": "2023-12-01T04:22:41.031511Z",
     "start_time": "2023-12-01T04:22:41.010818Z"
    }
   },
   "outputs": [],
   "source": [
    "x=dummy.drop(\"Rating_category\",axis=1)\n",
    "y=dummy[\"Rating_category\"]"
   ]
  },
  {
   "cell_type": "markdown",
   "id": "bdba68bc",
   "metadata": {
    "ExecuteTime": {
     "end_time": "2023-11-27T17:21:08.088912Z",
     "start_time": "2023-11-27T17:21:08.088912Z"
    }
   },
   "source": [
    "# 15. Split the dataset into train and test."
   ]
  },
  {
   "cell_type": "code",
   "execution_count": 42,
   "id": "f4678459",
   "metadata": {
    "ExecuteTime": {
     "end_time": "2023-12-01T04:22:46.089169Z",
     "start_time": "2023-12-01T04:22:45.118600Z"
    }
   },
   "outputs": [],
   "source": [
    "#importing train_test_split from sklearn\n",
    "from sklearn.model_selection import train_test_split"
   ]
  },
  {
   "cell_type": "code",
   "execution_count": 43,
   "id": "957bee7e",
   "metadata": {
    "ExecuteTime": {
     "end_time": "2023-12-01T04:22:48.348553Z",
     "start_time": "2023-12-01T04:22:48.315662Z"
    }
   },
   "outputs": [],
   "source": [
    "#spliting into train and test\n",
    "x_train,x_test,y_train,y_test=train_test_split(x,y,test_size=0.3,random_state=42)"
   ]
  },
  {
   "cell_type": "markdown",
   "id": "695f8235",
   "metadata": {},
   "source": [
    "# 16. Standardize the data, so that the values are within a particular range."
   ]
  },
  {
   "cell_type": "code",
   "execution_count": 44,
   "id": "a41ef0a9",
   "metadata": {
    "ExecuteTime": {
     "end_time": "2023-12-01T04:23:01.285982Z",
     "start_time": "2023-12-01T04:23:01.278767Z"
    }
   },
   "outputs": [],
   "source": [
    "#standardizing the data using standard scaler\n",
    "from sklearn.preprocessing import StandardScaler\n",
    "scaler=StandardScaler()"
   ]
  },
  {
   "cell_type": "code",
   "execution_count": 45,
   "id": "7696904c",
   "metadata": {
    "ExecuteTime": {
     "end_time": "2023-12-01T04:23:02.275052Z",
     "start_time": "2023-12-01T04:23:02.241299Z"
    }
   },
   "outputs": [],
   "source": [
    "x_train=scaler.fit_transform(x_train)\n",
    "x_test=scaler.transform(x_test)"
   ]
  },
  {
   "cell_type": "code",
   "execution_count": null,
   "id": "4964ff0d",
   "metadata": {},
   "outputs": [],
   "source": []
  },
  {
   "cell_type": "code",
   "execution_count": 72,
   "id": "ea747ac1",
   "metadata": {},
   "outputs": [
    {
     "name": "stdout",
     "output_type": "stream",
     "text": [
      "               Category  Percentage  Running_Total\n",
      "26       ART_AND_DESIGN        0.79           0.79\n",
      "24    AUTO_AND_VEHICLES        0.85           1.64\n",
      "32               BEAUTY        0.50           2.14\n",
      "17  BOOKS_AND_REFERENCE        1.93           4.07\n",
      "9              BUSINESS        3.03           7.10\n",
      "29               COMICS        0.66           7.76\n",
      "11        COMMUNICATION        2.77          10.53\n",
      "18               DATING        1.90          12.43\n",
      "21            EDUCATION        1.28          13.71\n",
      "23        ENTERTAINMENT        0.90          14.61\n",
      "31               EVENTS        0.51          15.13\n",
      "0                FAMILY       21.43          36.56\n",
      "6               FINANCE        3.54          40.10\n",
      "22       FOOD_AND_DRINK        1.10          41.20\n",
      "1                  GAME       12.92          54.12\n",
      "12   HEALTH_AND_FITNESS        2.68          56.80\n",
      "28       HOUSE_AND_HOME        0.67          57.48\n",
      "25   LIBRARIES_AND_DEMO        0.84          58.31\n",
      "5             LIFESTYLE        3.68          61.99\n",
      "20  MAPS_AND_NAVIGATION        1.28          63.27\n",
      "4               MEDICAL        3.73          67.00\n",
      "14   NEWS_AND_MAGAZINES        2.18          69.18\n",
      "30            PARENTING        0.59          69.77\n",
      "3       PERSONALIZATION        3.76          73.53\n",
      "10          PHOTOGRAPHY        3.03          76.56\n",
      "8          PRODUCTIVITY        3.11          79.67\n",
      "15             SHOPPING        2.14          81.82\n",
      "13               SOCIAL        2.29          84.11\n",
      "7                SPORTS        3.12          87.23\n",
      "2                 TOOLS        8.54          95.77\n",
      "16     TRAVEL_AND_LOCAL        1.98          97.75\n",
      "19        VIDEO_PLAYERS        1.56          99.31\n",
      "27              WEATHER        0.69         100.00\n"
     ]
    }
   ],
   "source": [
    "category_counts = df['Category'].value_counts(normalize=True)\n",
    "\n",
    "# Create a DataFrame with the result\n",
    "result_df = pd.DataFrame({'Category': category_counts.index, 'Percentage': category_counts.values * 100})\n",
    "\n",
    "# Sort DataFrame by 'Category' for cumulative sum to work correctly\n",
    "result_df.sort_values(by='Category', inplace=True)\n",
    "\n",
    "# Calculate the running total of percentages\n",
    "result_df['Running_Total'] = result_df['Percentage'].cumsum()\n",
    "\n",
    "# Display the result DataFrame\n",
    "print(result_df)"
   ]
  },
  {
   "cell_type": "code",
   "execution_count": 85,
   "id": "7975c754",
   "metadata": {},
   "outputs": [
    {
     "data": {
      "text/html": [
       "<div>\n",
       "<style scoped>\n",
       "    .dataframe tbody tr th:only-of-type {\n",
       "        vertical-align: middle;\n",
       "    }\n",
       "\n",
       "    .dataframe tbody tr th {\n",
       "        vertical-align: top;\n",
       "    }\n",
       "\n",
       "    .dataframe thead th {\n",
       "        text-align: right;\n",
       "    }\n",
       "</style>\n",
       "<table border=\"1\" class=\"dataframe\">\n",
       "  <thead>\n",
       "    <tr style=\"text-align: right;\">\n",
       "      <th></th>\n",
       "      <th>Category</th>\n",
       "      <th>proportion</th>\n",
       "      <th>running_total</th>\n",
       "    </tr>\n",
       "  </thead>\n",
       "  <tbody>\n",
       "    <tr>\n",
       "      <th>0</th>\n",
       "      <td>FAMILY</td>\n",
       "      <td>0.21</td>\n",
       "      <td>21.43</td>\n",
       "    </tr>\n",
       "    <tr>\n",
       "      <th>1</th>\n",
       "      <td>GAME</td>\n",
       "      <td>0.13</td>\n",
       "      <td>34.35</td>\n",
       "    </tr>\n",
       "    <tr>\n",
       "      <th>2</th>\n",
       "      <td>TOOLS</td>\n",
       "      <td>0.09</td>\n",
       "      <td>42.89</td>\n",
       "    </tr>\n",
       "    <tr>\n",
       "      <th>3</th>\n",
       "      <td>PERSONALIZATION</td>\n",
       "      <td>0.04</td>\n",
       "      <td>46.65</td>\n",
       "    </tr>\n",
       "    <tr>\n",
       "      <th>4</th>\n",
       "      <td>MEDICAL</td>\n",
       "      <td>0.04</td>\n",
       "      <td>50.38</td>\n",
       "    </tr>\n",
       "    <tr>\n",
       "      <th>5</th>\n",
       "      <td>LIFESTYLE</td>\n",
       "      <td>0.04</td>\n",
       "      <td>54.05</td>\n",
       "    </tr>\n",
       "    <tr>\n",
       "      <th>6</th>\n",
       "      <td>FINANCE</td>\n",
       "      <td>0.04</td>\n",
       "      <td>57.60</td>\n",
       "    </tr>\n",
       "    <tr>\n",
       "      <th>7</th>\n",
       "      <td>SPORTS</td>\n",
       "      <td>0.03</td>\n",
       "      <td>60.72</td>\n",
       "    </tr>\n",
       "    <tr>\n",
       "      <th>8</th>\n",
       "      <td>PRODUCTIVITY</td>\n",
       "      <td>0.03</td>\n",
       "      <td>63.83</td>\n",
       "    </tr>\n",
       "    <tr>\n",
       "      <th>9</th>\n",
       "      <td>BUSINESS</td>\n",
       "      <td>0.03</td>\n",
       "      <td>66.86</td>\n",
       "    </tr>\n",
       "    <tr>\n",
       "      <th>10</th>\n",
       "      <td>PHOTOGRAPHY</td>\n",
       "      <td>0.03</td>\n",
       "      <td>69.89</td>\n",
       "    </tr>\n",
       "    <tr>\n",
       "      <th>11</th>\n",
       "      <td>COMMUNICATION</td>\n",
       "      <td>0.03</td>\n",
       "      <td>72.67</td>\n",
       "    </tr>\n",
       "    <tr>\n",
       "      <th>12</th>\n",
       "      <td>HEALTH_AND_FITNESS</td>\n",
       "      <td>0.03</td>\n",
       "      <td>75.35</td>\n",
       "    </tr>\n",
       "    <tr>\n",
       "      <th>13</th>\n",
       "      <td>SOCIAL</td>\n",
       "      <td>0.02</td>\n",
       "      <td>77.64</td>\n",
       "    </tr>\n",
       "    <tr>\n",
       "      <th>14</th>\n",
       "      <td>NEWS_AND_MAGAZINES</td>\n",
       "      <td>0.02</td>\n",
       "      <td>79.82</td>\n",
       "    </tr>\n",
       "    <tr>\n",
       "      <th>15</th>\n",
       "      <td>SHOPPING</td>\n",
       "      <td>0.02</td>\n",
       "      <td>81.96</td>\n",
       "    </tr>\n",
       "    <tr>\n",
       "      <th>16</th>\n",
       "      <td>TRAVEL_AND_LOCAL</td>\n",
       "      <td>0.02</td>\n",
       "      <td>83.94</td>\n",
       "    </tr>\n",
       "    <tr>\n",
       "      <th>17</th>\n",
       "      <td>BOOKS_AND_REFERENCE</td>\n",
       "      <td>0.02</td>\n",
       "      <td>85.87</td>\n",
       "    </tr>\n",
       "    <tr>\n",
       "      <th>18</th>\n",
       "      <td>DATING</td>\n",
       "      <td>0.02</td>\n",
       "      <td>87.77</td>\n",
       "    </tr>\n",
       "    <tr>\n",
       "      <th>19</th>\n",
       "      <td>VIDEO_PLAYERS</td>\n",
       "      <td>0.02</td>\n",
       "      <td>89.33</td>\n",
       "    </tr>\n",
       "    <tr>\n",
       "      <th>20</th>\n",
       "      <td>MAPS_AND_NAVIGATION</td>\n",
       "      <td>0.01</td>\n",
       "      <td>90.61</td>\n",
       "    </tr>\n",
       "    <tr>\n",
       "      <th>21</th>\n",
       "      <td>EDUCATION</td>\n",
       "      <td>0.01</td>\n",
       "      <td>91.89</td>\n",
       "    </tr>\n",
       "    <tr>\n",
       "      <th>22</th>\n",
       "      <td>FOOD_AND_DRINK</td>\n",
       "      <td>0.01</td>\n",
       "      <td>93.00</td>\n",
       "    </tr>\n",
       "    <tr>\n",
       "      <th>23</th>\n",
       "      <td>ENTERTAINMENT</td>\n",
       "      <td>0.01</td>\n",
       "      <td>93.90</td>\n",
       "    </tr>\n",
       "    <tr>\n",
       "      <th>24</th>\n",
       "      <td>AUTO_AND_VEHICLES</td>\n",
       "      <td>0.01</td>\n",
       "      <td>94.75</td>\n",
       "    </tr>\n",
       "    <tr>\n",
       "      <th>25</th>\n",
       "      <td>LIBRARIES_AND_DEMO</td>\n",
       "      <td>0.01</td>\n",
       "      <td>95.58</td>\n",
       "    </tr>\n",
       "    <tr>\n",
       "      <th>26</th>\n",
       "      <td>ART_AND_DESIGN</td>\n",
       "      <td>0.01</td>\n",
       "      <td>96.38</td>\n",
       "    </tr>\n",
       "    <tr>\n",
       "      <th>27</th>\n",
       "      <td>WEATHER</td>\n",
       "      <td>0.01</td>\n",
       "      <td>97.06</td>\n",
       "    </tr>\n",
       "    <tr>\n",
       "      <th>28</th>\n",
       "      <td>HOUSE_AND_HOME</td>\n",
       "      <td>0.01</td>\n",
       "      <td>97.74</td>\n",
       "    </tr>\n",
       "    <tr>\n",
       "      <th>29</th>\n",
       "      <td>COMICS</td>\n",
       "      <td>0.01</td>\n",
       "      <td>98.40</td>\n",
       "    </tr>\n",
       "    <tr>\n",
       "      <th>30</th>\n",
       "      <td>PARENTING</td>\n",
       "      <td>0.01</td>\n",
       "      <td>98.99</td>\n",
       "    </tr>\n",
       "    <tr>\n",
       "      <th>31</th>\n",
       "      <td>EVENTS</td>\n",
       "      <td>0.01</td>\n",
       "      <td>99.50</td>\n",
       "    </tr>\n",
       "    <tr>\n",
       "      <th>32</th>\n",
       "      <td>BEAUTY</td>\n",
       "      <td>0.00</td>\n",
       "      <td>100.00</td>\n",
       "    </tr>\n",
       "  </tbody>\n",
       "</table>\n",
       "</div>"
      ],
      "text/plain": [
       "               Category  proportion  running_total\n",
       "0                FAMILY        0.21          21.43\n",
       "1                  GAME        0.13          34.35\n",
       "2                 TOOLS        0.09          42.89\n",
       "3       PERSONALIZATION        0.04          46.65\n",
       "4               MEDICAL        0.04          50.38\n",
       "5             LIFESTYLE        0.04          54.05\n",
       "6               FINANCE        0.04          57.60\n",
       "7                SPORTS        0.03          60.72\n",
       "8          PRODUCTIVITY        0.03          63.83\n",
       "9              BUSINESS        0.03          66.86\n",
       "10          PHOTOGRAPHY        0.03          69.89\n",
       "11        COMMUNICATION        0.03          72.67\n",
       "12   HEALTH_AND_FITNESS        0.03          75.35\n",
       "13               SOCIAL        0.02          77.64\n",
       "14   NEWS_AND_MAGAZINES        0.02          79.82\n",
       "15             SHOPPING        0.02          81.96\n",
       "16     TRAVEL_AND_LOCAL        0.02          83.94\n",
       "17  BOOKS_AND_REFERENCE        0.02          85.87\n",
       "18               DATING        0.02          87.77\n",
       "19        VIDEO_PLAYERS        0.02          89.33\n",
       "20  MAPS_AND_NAVIGATION        0.01          90.61\n",
       "21            EDUCATION        0.01          91.89\n",
       "22       FOOD_AND_DRINK        0.01          93.00\n",
       "23        ENTERTAINMENT        0.01          93.90\n",
       "24    AUTO_AND_VEHICLES        0.01          94.75\n",
       "25   LIBRARIES_AND_DEMO        0.01          95.58\n",
       "26       ART_AND_DESIGN        0.01          96.38\n",
       "27              WEATHER        0.01          97.06\n",
       "28       HOUSE_AND_HOME        0.01          97.74\n",
       "29               COMICS        0.01          98.40\n",
       "30            PARENTING        0.01          98.99\n",
       "31               EVENTS        0.01          99.50\n",
       "32               BEAUTY        0.00         100.00"
      ]
     },
     "execution_count": 85,
     "metadata": {},
     "output_type": "execute_result"
    }
   ],
   "source": [
    "run=(pd.DataFrame(df.Category.value_counts(normalize=True)).reset_index())\n",
    "\n",
    "run[\"running_total\"]=pd.DataFrame(df.Category.value_counts(normalize=True)).reset_index()[\"proportion\"].cumsum()*100\n",
    "run"
   ]
  },
  {
   "cell_type": "markdown",
   "id": "e1aaa114",
   "metadata": {},
   "source": [
    "#### Here we explored the data set to look upon for  which category we have most apps are there\n",
    " ##### There are 31 unique apps categories are there in that Family,game,tools have covered 43% of the apps in this data set\n",
    "   ##### remaining 27 category shares 57% ,so majority of the apps belongs to Family,Game and tools"
   ]
  },
  {
   "cell_type": "code",
   "execution_count": 95,
   "id": "7b81aa9b",
   "metadata": {
    "scrolled": true
   },
   "outputs": [
    {
     "data": {
      "image/png": "[encoded data removed]",
      "text/plain": [
       "<Figure size 1500x600 with 1 Axes>"
      ]
     },
     "metadata": {},
     "output_type": "display_data"
    }
   ],
   "source": [
    "plt.figure(figsize=(15,6))\n",
    "a=sns.barplot(data=run,y=run[\"running_total\"],x=\"Category\")\n",
    "plt.xticks(rotation=90)\n",
    "plt.bar_label(a.containers[0])\n",
    "plt.grid(axis=\"y\")\n",
    "plt.show()"
   ]
  },
  {
   "cell_type": "code",
   "execution_count": 46,
   "id": "cc72811e",
   "metadata": {},
   "outputs": [
    {
     "data": {
      "text/plain": [
       "Index(['Category', 'Reviews', 'Size', 'Installs', 'Type', 'Price',\n",
       "       'Content Rating', 'Rating_category'],\n",
       "      dtype='object')"
      ]
     },
     "execution_count": 46,
     "metadata": {},
     "output_type": "execute_result"
    }
   ],
   "source": [
    "df.columns"
   ]
  },
  {
   "cell_type": "code",
   "execution_count": 51,
   "id": "fb82e692",
   "metadata": {},
   "outputs": [],
   "source": [
    "pd.options.display.float_format = '{:.2f}'.format"
   ]
  },
  {
   "cell_type": "code",
   "execution_count": 70,
   "id": "0381350e",
   "metadata": {},
   "outputs": [
    {
     "data": {
      "image/png": "[encoded data removed]",
      "text/plain": [
       "<Figure size 1000x1200 with 1 Axes>"
      ]
     },
     "metadata": {},
     "output_type": "display_data"
    }
   ],
   "source": [
    "plt.figure(figsize=(10,12))\n",
    "sns.barplot(data=pd.DataFrame(df.groupby(\"Category\")[\"Installs\"].mean().sort_values(ascending=False)).reset_index(),x=\"Installs\",y=\"Category\")\n",
    "plt.show()"
   ]
  },
  {
   "cell_type": "markdown",
   "id": "8bfc66f1",
   "metadata": {},
   "source": [
    "## Insights observed:\n",
    "#### In the bar chart we Visualized the average Numbers of Installs for Each category \n",
    "#### This Gives us the insights that the apps which belongs to Gaming category have most installs\n",
    "#### The top 2 is News and magazin and top 3 is communication.\n",
    "#### from this charts we can see the top and bottom categories of installs\n",
    "#### apps related to gaming is high in demand"
   ]
  },
  {
   "cell_type": "code",
   "execution_count": null,
   "id": "b18340a7",
   "metadata": {},
   "outputs": [],
   "source": []
  }
 ],
 "metadata": {
  "kernelspec": {
   "display_name": "Python 3 (ipykernel)",
   "language": "python",
   "name": "python3"
  },
  "language_info": {
   "codemirror_mode": {
    "name": "ipython",
    "version": 3
   },
   "file_extension": ".py",
   "mimetype": "text/x-python",
   "name": "python",
   "nbconvert_exporter": "python",
   "pygments_lexer": "ipython3",
   "version": "3.11.5"
  }
 },
 "nbformat": 4,
 "nbformat_minor": 5
}
